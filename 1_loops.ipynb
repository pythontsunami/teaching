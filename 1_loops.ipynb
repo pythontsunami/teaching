{
 "cells": [
  {
   "cell_type": "markdown",
   "metadata": {
    "colab_type": "text",
    "id": "jzzrpQS-zxnF",
    "slideshow": {
     "slide_type": "slide"
    }
   },
   "source": [
    "# Loops\n",
    "\n",
    "\n",
    "- prepared by [Katarina Nastou](https://www.cpr.ku.dk/staff/?pure=en/persons/672471)\n",
    "\n",
    "[![Open In Colab](https://colab.research.google.com/assets/colab-badge.svg)](https://colab.research.google.com/github/pythontsunami/teaching/blob/intro/1_loops.ipynb)"
   ]
  },
  {
   "cell_type": "markdown",
   "metadata": {
    "colab_type": "text",
    "id": "pjlidX5Dzxyl",
    "slideshow": {
     "slide_type": "subslide"
    }
   },
   "source": [
    "\n",
    "## Objectives\n",
    "- Understand what loops are and how they are useful\n",
    "- Learn what an \"iterable object\" is\n",
    "- Use ***for*** and ***while*** loops to iterate over ranges and strings \n",
    "- Learn how to control exiting a loop\n",
    "\n"
   ]
  },
  {
   "cell_type": "markdown",
   "metadata": {
    "colab_type": "text",
    "id": "HrDeygtfzx7P",
    "slideshow": {
     "slide_type": "fragment"
    }
   },
   "source": [
    "Test: Print numbers 1 through 10 using what you already know"
   ]
  },
  {
   "cell_type": "code",
   "execution_count": null,
   "metadata": {
    "colab": {},
    "colab_type": "code",
    "id": "tjj39-AazwAb",
    "slideshow": {
     "slide_type": "fragment"
    }
   },
   "outputs": [],
   "source": [
    "print(1)\n",
    "print(2)\n",
    "print(3)\n",
    "print(4)\n",
    "print(5)\n",
    "print(6)\n",
    "print(7)\n",
    "print(8)\n",
    "print(9)\n",
    "print(10)"
   ]
  },
  {
   "cell_type": "markdown",
   "metadata": {
    "slideshow": {
     "slide_type": "fragment"
    }
   },
   "source": [
    "> This notebook is about how to do less tediously."
   ]
  },
  {
   "cell_type": "markdown",
   "metadata": {
    "colab_type": "text",
    "id": "EClTb9Qy0i8U",
    "slideshow": {
     "slide_type": "slide"
    }
   },
   "source": [
    "## **`for`** loops\n",
    "In Python, [**`for`**](https://docs.python.org/3/tutorial/controlflow.html#for-statements) loops are written like this:\n",
    "\n",
    "```python\n",
    "for item in iterable_object:\n",
    "    # do something with item\n",
    "```\n",
    "- An **iterable object** is some kind of collection of items, for instance: a `str`ing of characters, a `range`, a [`list`](1_lists.ipynb) etc.\n",
    "- ***item*** is a new variable that can be called whatever you want\n",
    "- ***item*** references the current position of our ***iterator*** within the iterable. It will iterate over (run through) every item of the collection and then go away when it has visited all items\n",
    "- the body of the loop is **indented** to group statements."
   ]
  },
  {
   "cell_type": "code",
   "execution_count": null,
   "metadata": {
    "slideshow": {
     "slide_type": "fragment"
    }
   },
   "outputs": [],
   "source": [
    "# str(), range(1), list()"
   ]
  },
  {
   "cell_type": "markdown",
   "metadata": {
    "colab_type": "text",
    "id": "EClTb9Qy0i8U",
    "slideshow": {
     "slide_type": "subslide"
    }
   },
   "source": [
    "## ***for*** loops with **ranges**\n",
    "Let's print numbers 1 - 10 using ranges."
   ]
  },
  {
   "cell_type": "code",
   "execution_count": null,
   "metadata": {
    "colab": {},
    "colab_type": "code",
    "id": "aI1zSyEw1Tvk",
    "slideshow": {
     "slide_type": "fragment"
    }
   },
   "outputs": [],
   "source": [
    "for number in range(1, 11):\n",
    "    print(number)"
   ]
  },
  {
   "cell_type": "markdown",
   "metadata": {
    "colab_type": "text",
    "id": "ZCj6EX711bw1",
    "slideshow": {
     "slide_type": "fragment"
    }
   },
   "source": [
    "## ranges\n",
    "If we just want to print numbers, we can simply iterate over a range.\n",
    "\n",
    "Python ranges come in multiple forms:\n",
    "\n",
    "- `range(8)` gives you integers from 0 through 7 (Count starts at 0 and is exclusive)\n",
    "\n",
    "- `range(2, 9)` will give you integers from 2 to 8 (Two parameters are (start, end))\n",
    "\n",
    "- `range(10, 20, 2)`  will give you odds from 10 to 20\n",
    "\n",
    "- `range(9, 0, -1)`  will give you integers from 9 to 1 (Third parameter is the \"step\", meaning how many to skip. Also, which way to count, up + or down -)\n"
   ]
  },
  {
   "cell_type": "markdown",
   "metadata": {
    "colab_type": "text",
    "id": "o42yFkWx4WyO",
    "slideshow": {
     "slide_type": "slide"
    }
   },
   "source": [
    "## Quiz\n",
    "- *Question 1*: What numbers does the following range generate?\n",
    "`range(6,12)` \n",
    "\n",
    "- *Question 2*: What numbers does the following range generate?\n",
    "`range(4)` \n",
    "\n",
    "- *Question 3*: What is printed out after the following code?\n",
    "```\n",
    "nums = range(1,5)\n",
    "print(nums)\n",
    "```\n",
    "tip: run the code to check for yourself!\n",
    "\n",
    "- *Question 4*: What numbers does the following range generate: `range(12,0,-3)`"
   ]
  },
  {
   "cell_type": "code",
   "execution_count": null,
   "metadata": {
    "slideshow": {
     "slide_type": "fragment"
    }
   },
   "outputs": [],
   "source": []
  },
  {
   "cell_type": "markdown",
   "metadata": {
    "colab_type": "text",
    "id": "O42wSNIP2OWP",
    "slideshow": {
     "slide_type": "subslide"
    }
   },
   "source": [
    "### Exercise 1\n",
    "Loop through numbers 1-20. For each number:\n",
    "- If the number is 4 or 13, print \"x is unlucky\"\n",
    "- Otherwise:\n",
    "    - If the number is even, print \"x is even\"\n",
    "    - If the number is odd, print \"x is odd\"\n",
    "\n",
    "> check [`1_conditionals.ipynb`](1_conditionals.ipynb)"
   ]
  },
  {
   "cell_type": "code",
   "execution_count": null,
   "metadata": {
    "colab": {},
    "colab_type": "code",
    "id": "XbGvBLQk5Ymo",
    "slideshow": {
     "slide_type": "fragment"
    }
   },
   "outputs": [],
   "source": []
  },
  {
   "cell_type": "markdown",
   "metadata": {
    "colab_type": "text",
    "id": "4NJV8SnW2dcf",
    "slideshow": {
     "slide_type": "slide"
    }
   },
   "source": [
    "## ***while*** loops\n",
    "\n",
    "We can also iterate using a **`while`** loop, which has a different format:\n",
    "\n",
    "```python\n",
    "while im_tired:\n",
    "    # drink coffee\n",
    "```\n",
    "while loops continue to execute while a certain condition is True, and will end when it becomes False.\n",
    "\n",
    "```python\n",
    "user_response = \"Something...\"\n",
    "while user_response != \"please\":\n",
    "    user_response = input(\"Ah ah ah, you didn't say the magic word: \")\n",
    "```\n",
    "\n",
    "***while*** loops require more careful setup than ***for*** loops, since you have to specify the termination conditions manually.\n",
    "\n",
    "Be careful! If the condition doesn't become false at some point, your loop will continue ***forever***!\n"
   ]
  },
  {
   "cell_type": "markdown",
   "metadata": {
    "colab_type": "text",
    "id": "xKOz5qSs5bfV",
    "slideshow": {
     "slide_type": "slide"
    }
   },
   "source": [
    "## Quiz\n",
    "\n",
    "**Question 1**: What does the following loop do?\n",
    "```python\n",
    "    i = 1\n",
    "    while i < 5:\n",
    "        i + i\n",
    "        print(i)\n",
    "```\n",
    "    \n",
    "> hint: is the value of i changing?"
   ]
  },
  {
   "cell_type": "code",
   "execution_count": null,
   "metadata": {
    "slideshow": {
     "slide_type": "fragment"
    }
   },
   "outputs": [],
   "source": []
  },
  {
   "cell_type": "markdown",
   "metadata": {
    "colab_type": "text",
    "id": "xKOz5qSs5bfV",
    "slideshow": {
     "slide_type": "subslide"
    }
   },
   "source": [
    "**Question 2**: What does the following loop do?\n",
    "```python\n",
    "    i = 0\n",
    "    while i <= 5:\n",
    "        i =+ 1\n",
    "        print(i)\n",
    "```\n",
    "> hint: have you checked for typos here?"
   ]
  },
  {
   "cell_type": "code",
   "execution_count": null,
   "metadata": {
    "slideshow": {
     "slide_type": "fragment"
    }
   },
   "outputs": [],
   "source": []
  },
  {
   "cell_type": "markdown",
   "metadata": {
    "colab_type": "text",
    "id": "xKOz5qSs5bfV",
    "slideshow": {
     "slide_type": "subslide"
    }
   },
   "source": [
    "**Question 3**: What can we do to get out of the infinite loop below?\n",
    "```python\n",
    "    # this code runs forever...\n",
    "    x = 0\n",
    "    while x != 11:\n",
    "        x += 2\n",
    "        print(x)\n",
    "```\n",
    "\n",
    "1. change the condition to `x != 10`\n",
    "   \n",
    "2. change the condition to `x < 11`\n",
    "    \n",
    "3. add conditional that says \n",
    "    \n",
    "```python\n",
    "if x == 10:\n",
    "    break\n",
    "```\n",
    "\n",
    "4. press Ctrl + C to kill the program\n",
    "\n",
    "5. all of the above"
   ]
  },
  {
   "cell_type": "code",
   "execution_count": null,
   "metadata": {
    "slideshow": {
     "slide_type": "fragment"
    }
   },
   "outputs": [],
   "source": []
  },
  {
   "cell_type": "markdown",
   "metadata": {
    "colab_type": "text",
    "id": "XKETo3jK3aue",
    "slideshow": {
     "slide_type": "slide"
    }
   },
   "source": [
    "## Controlled Exit\n",
    "\n",
    "\n",
    "The keyword [`break`](https://docs.python.org/3/tutorial/controlflow.html#break-and-continue-statements-and-else-clauses-on-loops) gives us the ability to exit out of while loops whenever we want:\n",
    "\n",
    "```python\n",
    "while True:\n",
    "    command = input(\"Type 'exit' to exit: \")\n",
    "    if (command == \"exit\"):\n",
    "        break\n",
    "```\n",
    "\n",
    "We can also use it to end for loops early:\n",
    "\n",
    "```python\n",
    "for x in range(1, 101):\n",
    "    print(x)\n",
    "    if x == 3:\n",
    "        break\n",
    "```"
   ]
  },
  {
   "cell_type": "code",
   "execution_count": null,
   "metadata": {
    "slideshow": {
     "slide_type": "fragment"
    }
   },
   "outputs": [],
   "source": []
  },
  {
   "cell_type": "markdown",
   "metadata": {
    "colab_type": "text",
    "id": "XKETo3jK3aue",
    "slideshow": {
     "slide_type": "subslide"
    }
   },
   "source": [
    "### Adding a break"
   ]
  },
  {
   "cell_type": "code",
   "execution_count": null,
   "metadata": {
    "colab": {
     "base_uri": "https://localhost:8080/",
     "height": 139
    },
    "colab_type": "code",
    "executionInfo": {
     "elapsed": 3318,
     "status": "ok",
     "timestamp": 1583751015556,
     "user": {
      "displayName": "Catherine Nst",
      "photoUrl": "",
      "userId": "00118750132604534762"
     },
     "user_tz": -60
    },
    "id": "VsEuKOb731qP",
    "outputId": "55af52b6-e389-47c6-f708-60abe34a9994",
    "slideshow": {
     "slide_type": "fragment"
    }
   },
   "outputs": [],
   "source": [
    "times = int(input(\"Give me a number from 10 to 100 to count to and you can hide: \"))\n",
    "\n",
    "for time in range(times):\n",
    "    print(str(time+1)+\" missisipi\")\n",
    "    if time+1 == 5: \n",
    "        print(\"Hahaha I won't count that far!\")\n",
    "        break"
   ]
  },
  {
   "cell_type": "markdown",
   "metadata": {
    "colab_type": "text",
    "id": "OdT8saj44Avh",
    "slideshow": {
     "slide_type": "slide"
    }
   },
   "source": [
    "## Recap\n",
    "\n",
    "- Loops are sections of code that keep repeating\n",
    "- For loops are useful for going through [iterable objects](https://docs.python.org/3/tutorial/classes.html#iterators)\n",
    "- While loops are more versatile but require more set up\n",
    "- Any loop can be short-circuited with the `break` keyword\n",
    "\n",
    "\n",
    "\n"
   ]
  },
  {
   "cell_type": "markdown",
   "metadata": {
    "colab_type": "text",
    "id": "THMUNuzm3jtb",
    "slideshow": {
     "slide_type": "fragment"
    }
   },
   "source": [
    "*Note: This notebook's contents have been adapted from Colt Steele's slides used in [Modern Python 3 Bootcamp Course](https://www.udemy.com/course/the-modern-python3-bootcamp/) on Udemy*"
   ]
  },
  {
   "cell_type": "code",
   "execution_count": null,
   "metadata": {},
   "outputs": [],
   "source": []
  }
 ],
 "metadata": {
  "celltoolbar": "Slideshow",
  "colab": {
   "authorship_tag": "ABX9TyNn48PoJA8yAKrQsJwUhfXp",
   "collapsed_sections": [],
   "name": "loops.ipynb",
   "provenance": []
  },
  "kernelspec": {
   "display_name": "Python 3",
   "language": "python",
   "name": "python3"
  },
  "language_info": {
   "codemirror_mode": {
    "name": "ipython",
    "version": 3
   },
   "file_extension": ".py",
   "mimetype": "text/x-python",
   "name": "python",
   "nbconvert_exporter": "python",
   "pygments_lexer": "ipython3",
   "version": "3.7.0"
  },
  "toc": {
   "base_numbering": 1,
   "nav_menu": {},
   "number_sections": true,
   "sideBar": true,
   "skip_h1_title": false,
   "title_cell": "Table of Contents",
   "title_sidebar": "Contents",
   "toc_cell": false,
   "toc_position": {},
   "toc_section_display": true,
   "toc_window_display": false
  },
  "toc-autonumbering": true
 },
 "nbformat": 4,
 "nbformat_minor": 4
}
