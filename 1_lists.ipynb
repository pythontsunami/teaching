{
 "cells": [
  {
   "cell_type": "markdown",
   "metadata": {
    "colab_type": "text",
    "id": "U8oOVXRObhT6",
    "slideshow": {
     "slide_type": "slide"
    }
   },
   "source": [
    "# Lists\n",
    "\n",
    "- prepared by [Katarina Nastou](https://www.cpr.ku.dk/staff/?pure=en/persons/672471)\n",
    "\n",
    "[![Open In Colab](https://colab.research.google.com/assets/colab-badge.svg)](https://colab.research.google.com/github/pythontsunami/teaching/blob/intro/1_lists.ipynb)"
   ]
  },
  {
   "cell_type": "markdown",
   "metadata": {
    "colab_type": "text",
    "id": "9g_buV4bbmjm",
    "slideshow": {
     "slide_type": "subslide"
    }
   },
   "source": [
    "## Objectives\n",
    "\n",
    "- Describe, create and access a list data structure\n",
    "- Use built in methods to modify and copy lists\n",
    "- Iterate over lists using loops and list comprehensions\n",
    "- Work with nested lists to build more complex data structures\n",
    "\n"
   ]
  },
  {
   "cell_type": "markdown",
   "metadata": {
    "colab_type": "text",
    "id": "H88eEcWZbzrO",
    "slideshow": {
     "slide_type": "slide"
    }
   },
   "source": [
    "## What is a List?\n",
    "\n",
    "It's just a collection or grouping of items!"
   ]
  },
  {
   "cell_type": "markdown",
   "metadata": {
    "colab_type": "text",
    "id": "H88eEcWZbzrO",
    "slideshow": {
     "slide_type": "fragment"
    }
   },
   "source": [
    "### How are lists useful?\n",
    "\n",
    "A fundamental data structure for organizing collections of items\n",
    "\n",
    "```python\n",
    "first_task = \"Install Python\"\n",
    "second_task = \"Learn Python\"\n",
    "third_task = \"Take a break\"\n",
    "```\n",
    "\n",
    "***No ordering!***"
   ]
  },
  {
   "cell_type": "markdown",
   "metadata": {
    "colab_type": "text",
    "id": "H88eEcWZbzrO",
    "slideshow": {
     "slide_type": "fragment"
    }
   },
   "source": [
    "### What do they look like?\n",
    "\n",
    "Fundamental data structures for organizing data\n",
    "```python\n",
    "tasks = [\"Install Python\", \"Learn Python\", \"Take a break\"]\n",
    "```\n",
    "\n",
    "Comma separated values\n",
    "```python\n",
    "first_task = \"Install Python\"\n",
    "second_task = \"Learn Python\"\n",
    "third_task = \"Take a break\"\n",
    "\n",
    "tasks = [first_task, second_task, third_task]\n",
    "```"
   ]
  },
  {
   "cell_type": "markdown",
   "metadata": {
    "colab_type": "text",
    "id": "H88eEcWZbzrO",
    "slideshow": {
     "slide_type": "subslide"
    }
   },
   "source": [
    "### How many elements does it have?\n",
    "\n",
    "Let's use our first [built-in function](https://docs.python.org/3/library/functions.html#built-in-funcs) for lists - `len`"
   ]
  },
  {
   "cell_type": "code",
   "execution_count": 1,
   "metadata": {
    "colab": {
     "base_uri": "https://localhost:8080/",
     "height": 34
    },
    "colab_type": "code",
    "executionInfo": {
     "elapsed": 1126,
     "status": "ok",
     "timestamp": 1583776668209,
     "user": {
      "displayName": "Catherine Nst",
      "photoUrl": "",
      "userId": "00118750132604534762"
     },
     "user_tz": -60
    },
    "id": "4uBWj7G0ceTo",
    "outputId": "6099c33c-aeb0-4c2e-ce8c-5e5f06d48139",
    "slideshow": {
     "slide_type": "fragment"
    }
   },
   "outputs": [
    {
     "data": {
      "text/plain": [
       "3"
      ]
     },
     "execution_count": 1,
     "metadata": {},
     "output_type": "execute_result"
    }
   ],
   "source": [
    "tasks = [\"Install Python\", \"Learn Python\", \"Take a break\"]\n",
    "len(tasks)"
   ]
  },
  {
   "cell_type": "markdown",
   "metadata": {
    "colab_type": "text",
    "id": "eU57xkYgci6l",
    "slideshow": {
     "slide_type": "subslide"
    }
   },
   "source": [
    "### A different way to make a list\n",
    "\n",
    "\n",
    "Using another built-in function called `list()`\n"
   ]
  },
  {
   "cell_type": "code",
   "execution_count": 2,
   "metadata": {
    "colab": {
     "base_uri": "https://localhost:8080/",
     "height": 34
    },
    "colab_type": "code",
    "executionInfo": {
     "elapsed": 871,
     "status": "ok",
     "timestamp": 1583776723827,
     "user": {
      "displayName": "Catherine Nst",
      "photoUrl": "",
      "userId": "00118750132604534762"
     },
     "user_tz": -60
    },
    "id": "z3m5xzDecsrh",
    "outputId": "175160f0-ac80-4908-840a-99177c4e719d",
    "slideshow": {
     "slide_type": "fragment"
    }
   },
   "outputs": [
    {
     "name": "stdout",
     "output_type": "stream",
     "text": [
      "[1, 2, 3]\n"
     ]
    }
   ],
   "source": [
    "tasks = list(range(1, 4))\n",
    "print(tasks)"
   ]
  },
  {
   "cell_type": "markdown",
   "metadata": {
    "colab_type": "text",
    "id": "hDIWOLIAItLm",
    "slideshow": {
     "slide_type": "subslide"
    }
   },
   "source": [
    "### Exercise 1: Create lists\n",
    "1. Define a list called `random_things` that is at least 4 elements long.  The data is completely up to you, but it must contain at least 1 string and 1 float. \n",
    "2. Define a list called `ints` that contains all the integers between 1 and 99 (including 99).  Please don't type this out manually! "
   ]
  },
  {
   "cell_type": "code",
   "execution_count": 3,
   "metadata": {
    "colab": {},
    "colab_type": "code",
    "id": "gnLica1YJQZ5",
    "slideshow": {
     "slide_type": "fragment"
    }
   },
   "outputs": [],
   "source": [
    "#define random_things\n",
    " \n",
    "#define ints\n"
   ]
  },
  {
   "cell_type": "markdown",
   "metadata": {
    "colab_type": "text",
    "id": "Xxg8pJi5czAg",
    "slideshow": {
     "slide_type": "slide"
    }
   },
   "source": [
    "## Accessing Values in a List\n",
    "\n",
    "Like ranges, lists ***ALWAYS*** start counting at zero. So the first element lives at ***index 0***.\n"
   ]
  },
  {
   "cell_type": "code",
   "execution_count": 4,
   "metadata": {
    "colab": {
     "base_uri": "https://localhost:8080/",
     "height": 234
    },
    "colab_type": "code",
    "executionInfo": {
     "elapsed": 961,
     "status": "error",
     "timestamp": 1583776824852,
     "user": {
      "displayName": "Catherine Nst",
      "photoUrl": "",
      "userId": "00118750132604534762"
     },
     "user_tz": -60
    },
    "id": "S9KidDpNdCTV",
    "outputId": "449b9a10-6943-41b6-f2a2-063259452506",
    "scrolled": true,
    "slideshow": {
     "slide_type": "fragment"
    }
   },
   "outputs": [
    {
     "name": "stdout",
     "output_type": "stream",
     "text": [
      "Ashley\n",
      "Michael\n"
     ]
    },
    {
     "ename": "IndexError",
     "evalue": "list index out of range",
     "output_type": "error",
     "traceback": [
      "\u001b[1;31m---------------------------------------------------------------------------\u001b[0m",
      "\u001b[1;31mIndexError\u001b[0m                                Traceback (most recent call last)",
      "\u001b[1;32m<ipython-input-4-20ff7d81154b>\u001b[0m in \u001b[0;36m<module>\u001b[1;34m\u001b[0m\n\u001b[0;32m      2\u001b[0m \u001b[0mprint\u001b[0m\u001b[1;33m(\u001b[0m\u001b[0mfriends\u001b[0m\u001b[1;33m[\u001b[0m\u001b[1;36m0\u001b[0m\u001b[1;33m]\u001b[0m\u001b[1;33m)\u001b[0m\u001b[1;33m\u001b[0m\u001b[1;33m\u001b[0m\u001b[0m\n\u001b[0;32m      3\u001b[0m \u001b[0mprint\u001b[0m\u001b[1;33m(\u001b[0m\u001b[0mfriends\u001b[0m\u001b[1;33m[\u001b[0m\u001b[1;36m2\u001b[0m\u001b[1;33m]\u001b[0m\u001b[1;33m)\u001b[0m\u001b[1;33m\u001b[0m\u001b[1;33m\u001b[0m\u001b[0m\n\u001b[1;32m----> 4\u001b[1;33m \u001b[0mprint\u001b[0m\u001b[1;33m(\u001b[0m\u001b[0mfriends\u001b[0m\u001b[1;33m[\u001b[0m\u001b[1;36m3\u001b[0m\u001b[1;33m]\u001b[0m\u001b[1;33m)\u001b[0m \u001b[1;31m# IndexError\u001b[0m\u001b[1;33m\u001b[0m\u001b[1;33m\u001b[0m\u001b[0m\n\u001b[0m",
      "\u001b[1;31mIndexError\u001b[0m: list index out of range"
     ]
    }
   ],
   "source": [
    "friends = [\"Ashley\", \"Matt\", \"Michael\"]\n",
    "print(friends[0]) \n",
    "print(friends[2]) \n",
    "print(friends[3]) # IndexError"
   ]
  },
  {
   "cell_type": "markdown",
   "metadata": {
    "colab_type": "text",
    "id": "tslhA20TdN--",
    "slideshow": {
     "slide_type": "subslide"
    }
   },
   "source": [
    "### Accessing Values from the End\n",
    "\n",
    "You can use a negative number to index backwards\n"
   ]
  },
  {
   "cell_type": "code",
   "execution_count": 5,
   "metadata": {
    "colab": {},
    "colab_type": "code",
    "id": "sNTpreo8dNjJ",
    "slideshow": {
     "slide_type": "fragment"
    }
   },
   "outputs": [
    {
     "name": "stdout",
     "output_type": "stream",
     "text": [
      "Michael\n",
      "Ashley\n"
     ]
    },
    {
     "ename": "IndexError",
     "evalue": "list index out of range",
     "output_type": "error",
     "traceback": [
      "\u001b[1;31m---------------------------------------------------------------------------\u001b[0m",
      "\u001b[1;31mIndexError\u001b[0m                                Traceback (most recent call last)",
      "\u001b[1;32m<ipython-input-5-ba6be7fe4e77>\u001b[0m in \u001b[0;36m<module>\u001b[1;34m\u001b[0m\n\u001b[0;32m      1\u001b[0m \u001b[0mprint\u001b[0m\u001b[1;33m(\u001b[0m\u001b[0mfriends\u001b[0m\u001b[1;33m[\u001b[0m\u001b[1;33m-\u001b[0m\u001b[1;36m1\u001b[0m\u001b[1;33m]\u001b[0m\u001b[1;33m)\u001b[0m\u001b[1;33m\u001b[0m\u001b[1;33m\u001b[0m\u001b[0m\n\u001b[0;32m      2\u001b[0m \u001b[0mprint\u001b[0m\u001b[1;33m(\u001b[0m\u001b[0mfriends\u001b[0m\u001b[1;33m[\u001b[0m\u001b[1;33m-\u001b[0m\u001b[1;36m3\u001b[0m\u001b[1;33m]\u001b[0m\u001b[1;33m)\u001b[0m\u001b[1;33m\u001b[0m\u001b[1;33m\u001b[0m\u001b[0m\n\u001b[1;32m----> 3\u001b[1;33m \u001b[0mprint\u001b[0m\u001b[1;33m(\u001b[0m\u001b[0mfriends\u001b[0m\u001b[1;33m[\u001b[0m\u001b[1;33m-\u001b[0m\u001b[1;36m4\u001b[0m\u001b[1;33m]\u001b[0m\u001b[1;33m)\u001b[0m \u001b[1;31m# IndexError\u001b[0m\u001b[1;33m\u001b[0m\u001b[1;33m\u001b[0m\u001b[0m\n\u001b[0m",
      "\u001b[1;31mIndexError\u001b[0m: list index out of range"
     ]
    }
   ],
   "source": [
    "friends = [\"Ashley\", \"Matt\", \"Michael\"]\n",
    "print(friends[-1]) \n",
    "print(friends[-3]) \n",
    "print(friends[-4]) # IndexError"
   ]
  },
  {
   "cell_type": "markdown",
   "metadata": {
    "colab_type": "text",
    "id": "gT4HfJxCdXsD",
    "slideshow": {
     "slide_type": "subslide"
    }
   },
   "source": [
    "### Check if a Value is in a List\n"
   ]
  },
  {
   "cell_type": "code",
   "execution_count": 6,
   "metadata": {
    "colab": {
     "base_uri": "https://localhost:8080/",
     "height": 52
    },
    "colab_type": "code",
    "executionInfo": {
     "elapsed": 834,
     "status": "ok",
     "timestamp": 1583776944986,
     "user": {
      "displayName": "Catherine Nst",
      "photoUrl": "",
      "userId": "00118750132604534762"
     },
     "user_tz": -60
    },
    "id": "lNx_OJ7AdbNh",
    "outputId": "858c83e4-11ff-4662-d116-7e1dd3ab0498",
    "slideshow": {
     "slide_type": "fragment"
    }
   },
   "outputs": [
    {
     "name": "stdout",
     "output_type": "stream",
     "text": [
      "True\n",
      "False\n"
     ]
    }
   ],
   "source": [
    "friends = [\"Ashley\", \"Matt\", \"Michael\"]\n",
    "print(\"Ashley\" in friends) \n",
    "print(\"Jason\" in friends)"
   ]
  },
  {
   "cell_type": "markdown",
   "metadata": {
    "colab_type": "text",
    "id": "18GeIdyWdoCu",
    "slideshow": {
     "slide_type": "subslide"
    }
   },
   "source": [
    "### Accessing all values in a list\n",
    "We could print out each value....\n",
    "But can we do better?\n"
   ]
  },
  {
   "cell_type": "code",
   "execution_count": 7,
   "metadata": {
    "colab": {
     "base_uri": "https://localhost:8080/",
     "height": 86
    },
    "colab_type": "code",
    "executionInfo": {
     "elapsed": 825,
     "status": "ok",
     "timestamp": 1583776996102,
     "user": {
      "displayName": "Catherine Nst",
      "photoUrl": "",
      "userId": "00118750132604534762"
     },
     "user_tz": -60
    },
    "id": "izqRGxrdduMM",
    "outputId": "747d23f4-fa82-48f7-89ce-25191105001b",
    "slideshow": {
     "slide_type": "fragment"
    }
   },
   "outputs": [
    {
     "name": "stdout",
     "output_type": "stream",
     "text": [
      "1\n",
      "2\n",
      "3\n",
      "4\n"
     ]
    }
   ],
   "source": [
    "numbers = [1,2,3,4]\n",
    "\n",
    "print(numbers[0])\n",
    "print(numbers[1])\n",
    "print(numbers[2]) \n",
    "print(numbers[3]) "
   ]
  },
  {
   "cell_type": "markdown",
   "metadata": {
    "colab_type": "text",
    "id": "OEaE61pSd3VK",
    "slideshow": {
     "slide_type": "fragment"
    }
   },
   "source": [
    "There are a few ways - let's start with a `for` loop!\n"
   ]
  },
  {
   "cell_type": "code",
   "execution_count": 8,
   "metadata": {
    "colab": {
     "base_uri": "https://localhost:8080/",
     "height": 86
    },
    "colab_type": "code",
    "executionInfo": {
     "elapsed": 811,
     "status": "ok",
     "timestamp": 1583777038186,
     "user": {
      "displayName": "Catherine Nst",
      "photoUrl": "",
      "userId": "00118750132604534762"
     },
     "user_tz": -60
    },
    "id": "YsONn1yxd2Up",
    "outputId": "508fabd2-3c17-48e7-874f-e93a74b9fcec",
    "slideshow": {
     "slide_type": "fragment"
    }
   },
   "outputs": [
    {
     "name": "stdout",
     "output_type": "stream",
     "text": [
      "1\n",
      "2\n",
      "3\n",
      "4\n"
     ]
    }
   ],
   "source": [
    "numbers = [1,2,3,4]\n",
    "\n",
    "for number in numbers:\n",
    "    print(number)"
   ]
  },
  {
   "cell_type": "markdown",
   "metadata": {
    "colab_type": "text",
    "id": "fr03cWDZd-P5",
    "slideshow": {
     "slide_type": "fragment"
    }
   },
   "source": [
    "Or a `while` loop!\n"
   ]
  },
  {
   "cell_type": "code",
   "execution_count": 9,
   "metadata": {
    "colab": {
     "base_uri": "https://localhost:8080/",
     "height": 86
    },
    "colab_type": "code",
    "executionInfo": {
     "elapsed": 892,
     "status": "ok",
     "timestamp": 1583777066323,
     "user": {
      "displayName": "Catherine Nst",
      "photoUrl": "",
      "userId": "00118750132604534762"
     },
     "user_tz": -60
    },
    "id": "CKblEgcPeAFp",
    "outputId": "ace25e9a-50ad-4466-bec3-38c3d5cb74ef",
    "slideshow": {
     "slide_type": "fragment"
    }
   },
   "outputs": [
    {
     "name": "stdout",
     "output_type": "stream",
     "text": [
      "1\n",
      "2\n",
      "3\n",
      "4\n"
     ]
    }
   ],
   "source": [
    "numbers = [1, 2, 3, 4]\n",
    "i = 0\n",
    "\n",
    "while i < len(numbers):\n",
    "    print(numbers[i])\n",
    "    i += 1"
   ]
  },
  {
   "source": [
    "### Exercise 2\n",
    "\n",
    "I'm having a party, and made a list of people I want to invite.  Unfortunately, I made a few spelling errors. Can you correct them?\n",
    "- Change \"Petre\" to \"Peter\"\n",
    "- Change \"Monika\" to \"Monica\"\n",
    "- Change \"george\" to \"George\" (capitalize it)"
   ],
   "cell_type": "code",
   "metadata": {
    "colab_type": "text",
    "id": "rYl080_XJen9",
    "slideshow": {
     "slide_type": "subslide"
    }
   },
   "execution_count": null,
   "outputs": []
  },
  {
   "cell_type": "code",
   "execution_count": 10,
   "metadata": {
    "colab": {},
    "colab_type": "code",
    "id": "oIVGbBjzJsGp",
    "slideshow": {
     "slide_type": "fragment"
    }
   },
   "outputs": [],
   "source": [
    "# DON'T TOUCH THIS PLEASE!\n",
    "people = [\"Petre\",\"Joanna\",\"Louis\",\"Angie\",\"Monika\",\"george\"]\n",
    "# DON'T TOUCH THIS PLEASE!\n",
    "\n",
    "#Change \"Petre\" to \"Peter\"\n",
    "\n",
    "#Change \"Monika\" to \"Monica\"\n",
    "\n",
    "#Change \"george\" to \"George\" (capitalize it)\n"
   ]
  },
  {
   "cell_type": "markdown",
   "metadata": {
    "colab_type": "text",
    "id": "lAqWTd6jeFlg",
    "slideshow": {
     "slide_type": "slide"
    }
   },
   "source": [
    "## List Methods\n",
    "\n",
    "Working with lists is very common - there are quite a few things we can do!"
   ]
  },
  {
   "cell_type": "markdown",
   "metadata": {
    "colab_type": "text",
    "id": "lAqWTd6jeFlg",
    "slideshow": {
     "slide_type": "subslide"
    }
   },
   "source": [
    "### append\n",
    "Add an item to the end of the list."
   ]
  },
  {
   "cell_type": "code",
   "execution_count": 11,
   "metadata": {
    "colab": {
     "base_uri": "https://localhost:8080/",
     "height": 34
    },
    "colab_type": "code",
    "executionInfo": {
     "elapsed": 851,
     "status": "ok",
     "timestamp": 1583777128609,
     "user": {
      "displayName": "Catherine Nst",
      "photoUrl": "",
      "userId": "00118750132604534762"
     },
     "user_tz": -60
    },
    "id": "5_vJErJOeP2Z",
    "outputId": "cd8408b3-3f74-4d05-c676-bf28bf5a22c4",
    "slideshow": {
     "slide_type": "fragment"
    }
   },
   "outputs": [
    {
     "name": "stdout",
     "output_type": "stream",
     "text": [
      "[1, 2, 3, 4, 5]\n"
     ]
    }
   ],
   "source": [
    "first_list = [1, 2, 3, 4]\n",
    "\n",
    "first_list.append(5)\n",
    "\n",
    "print(first_list)"
   ]
  },
  {
   "cell_type": "markdown",
   "metadata": {
    "colab_type": "text",
    "id": "OGlMsUpQeT-v",
    "slideshow": {
     "slide_type": "subslide"
    }
   },
   "source": [
    "### extend\n",
    "Add to the end of a list all values passed to extend\n"
   ]
  },
  {
   "cell_type": "code",
   "execution_count": 12,
   "metadata": {
    "colab": {
     "base_uri": "https://localhost:8080/",
     "height": 182
    },
    "colab_type": "code",
    "executionInfo": {
     "elapsed": 803,
     "status": "error",
     "timestamp": 1583777211371,
     "user": {
      "displayName": "Catherine Nst",
      "photoUrl": "",
      "userId": "00118750132604534762"
     },
     "user_tz": -60
    },
    "id": "nRVZNXeYeYLX",
    "outputId": "6cda99e6-8269-400f-b09a-4048de378e8f",
    "slideshow": {
     "slide_type": "fragment"
    }
   },
   "outputs": [
    {
     "ename": "TypeError",
     "evalue": "append() takes exactly one argument (4 given)",
     "output_type": "error",
     "traceback": [
      "\u001b[1;31m---------------------------------------------------------------------------\u001b[0m",
      "\u001b[1;31mTypeError\u001b[0m                                 Traceback (most recent call last)",
      "\u001b[1;32m<ipython-input-12-5d954ff18f05>\u001b[0m in \u001b[0;36m<module>\u001b[1;34m\u001b[0m\n\u001b[0;32m      1\u001b[0m \u001b[0mfirst_list\u001b[0m \u001b[1;33m=\u001b[0m \u001b[1;33m[\u001b[0m\u001b[1;36m1\u001b[0m\u001b[1;33m,\u001b[0m \u001b[1;36m2\u001b[0m\u001b[1;33m,\u001b[0m \u001b[1;36m3\u001b[0m\u001b[1;33m,\u001b[0m \u001b[1;36m4\u001b[0m\u001b[1;33m]\u001b[0m\u001b[1;33m\u001b[0m\u001b[1;33m\u001b[0m\u001b[0m\n\u001b[1;32m----> 2\u001b[1;33m \u001b[0mfirst_list\u001b[0m\u001b[1;33m.\u001b[0m\u001b[0mappend\u001b[0m\u001b[1;33m(\u001b[0m\u001b[1;36m5\u001b[0m\u001b[1;33m,\u001b[0m \u001b[1;36m6\u001b[0m\u001b[1;33m,\u001b[0m \u001b[1;36m7\u001b[0m\u001b[1;33m,\u001b[0m \u001b[1;36m8\u001b[0m\u001b[1;33m)\u001b[0m \u001b[1;31m# does not work!\u001b[0m\u001b[1;33m\u001b[0m\u001b[1;33m\u001b[0m\u001b[0m\n\u001b[0m",
      "\u001b[1;31mTypeError\u001b[0m: append() takes exactly one argument (4 given)"
     ]
    }
   ],
   "source": [
    "first_list = [1, 2, 3, 4]\n",
    "first_list.append(5, 6, 7, 8) # does not work!"
   ]
  },
  {
   "cell_type": "code",
   "execution_count": 13,
   "metadata": {
    "colab": {
     "base_uri": "https://localhost:8080/",
     "height": 34
    },
    "colab_type": "code",
    "executionInfo": {
     "elapsed": 980,
     "status": "ok",
     "timestamp": 1583777222314,
     "user": {
      "displayName": "Catherine Nst",
      "photoUrl": "",
      "userId": "00118750132604534762"
     },
     "user_tz": -60
    },
    "id": "cpWTcVo7em-P",
    "outputId": "49bd75e0-e45b-43c8-ff44-f2183c9b2d29",
    "slideshow": {
     "slide_type": "fragment"
    }
   },
   "outputs": [
    {
     "name": "stdout",
     "output_type": "stream",
     "text": [
      "[1, 2, 3, 4, [5, 6, 7, 8]]\n"
     ]
    }
   ],
   "source": [
    "first_list.append([5, 6, 7, 8])\n",
    "print(first_list) # is wrong\n",
    "len(first_list)"
   ]
  },
  {
   "cell_type": "code",
   "execution_count": 14,
   "metadata": {
    "colab": {
     "base_uri": "https://localhost:8080/",
     "height": 34
    },
    "colab_type": "code",
    "executionInfo": {
     "elapsed": 903,
     "status": "ok",
     "timestamp": 1583777227119,
     "user": {
      "displayName": "Catherine Nst",
      "photoUrl": "",
      "userId": "00118750132604534762"
     },
     "user_tz": -60
    },
    "id": "7cKbC3ecediY",
    "outputId": "321160d5-f965-41a8-e5df-befd9be757fa",
    "slideshow": {
     "slide_type": "fragment"
    }
   },
   "outputs": [
    {
     "name": "stdout",
     "output_type": "stream",
     "text": [
      "[1, 2, 3, 4, 5, 6, 7, 8]\n"
     ]
    }
   ],
   "source": [
    "correct_list = [1, 2, 3, 4]\n",
    "correct_list.extend([5, 6, 7, 8])\n",
    "print(correct_list) "
   ]
  },
  {
   "cell_type": "markdown",
   "metadata": {
    "colab_type": "text",
    "id": "fWDOpD8LesX_",
    "slideshow": {
     "slide_type": "subslide"
    }
   },
   "source": [
    "### insert\n",
    "Insert an item at a given position. \n"
   ]
  },
  {
   "cell_type": "code",
   "execution_count": 15,
   "metadata": {
    "colab": {
     "base_uri": "https://localhost:8080/",
     "height": 34
    },
    "colab_type": "code",
    "executionInfo": {
     "elapsed": 813,
     "status": "ok",
     "timestamp": 1583777278169,
     "user": {
      "displayName": "Catherine Nst",
      "photoUrl": "",
      "userId": "00118750132604534762"
     },
     "user_tz": -60
    },
    "id": "sYi8TBMdewL7",
    "outputId": "e6c640b5-c1eb-4583-fa35-c3f372e4edae",
    "slideshow": {
     "slide_type": "fragment"
    }
   },
   "outputs": [
    {
     "name": "stdout",
     "output_type": "stream",
     "text": [
      "[1, 2, 'Hi!', 3, 4]\n"
     ]
    }
   ],
   "source": [
    "first_list = [1, 2, 3, 4]\n",
    "first_list.insert(2, 'Hi!') \n",
    "print(first_list) "
   ]
  },
  {
   "cell_type": "code",
   "execution_count": 16,
   "metadata": {
    "colab": {},
    "colab_type": "code",
    "id": "rQZmRAkheyJ_",
    "slideshow": {
     "slide_type": "fragment"
    }
   },
   "outputs": [
    {
     "name": "stdout",
     "output_type": "stream",
     "text": [
      "[1, 2, 'Hi!', 3, 'The end!', 4]\n"
     ]
    }
   ],
   "source": [
    "first_list.insert(-1, 'The end!') \n",
    "print(first_list) "
   ]
  },
  {
   "cell_type": "markdown",
   "metadata": {
    "colab_type": "text",
    "id": "Q-QeyeuaLDbL",
    "slideshow": {
     "slide_type": "subslide"
    }
   },
   "source": [
    "### Exercise 3: List Basics\n",
    "\n",
    "Find the instructions as comments."
   ]
  },
  {
   "cell_type": "code",
   "execution_count": 17,
   "metadata": {
    "colab": {},
    "colab_type": "code",
    "id": "_pXK0Bw8LDI8",
    "slideshow": {
     "slide_type": "fragment"
    }
   },
   "outputs": [],
   "source": [
    "# Create a list called instructors\n",
    "\n",
    "\n",
    "# Add the following strings to the instructors list \n",
    "    # \"Marc\"\n",
    "    # \"Rita\"\n",
    "    # \"Henry\"\n",
    "\n",
    "\n",
    "# Print the list to make sure you did this right\n"
   ]
  },
  {
   "cell_type": "markdown",
   "metadata": {
    "colab_type": "text",
    "id": "HRdH8zSse4kT",
    "slideshow": {
     "slide_type": "subslide"
    }
   },
   "source": [
    "### clear\n",
    "Remove all items from a list"
   ]
  },
  {
   "cell_type": "code",
   "execution_count": 18,
   "metadata": {
    "colab": {
     "base_uri": "https://localhost:8080/",
     "height": 34
    },
    "colab_type": "code",
    "executionInfo": {
     "elapsed": 835,
     "status": "ok",
     "timestamp": 1583777311709,
     "user": {
      "displayName": "Catherine Nst",
      "photoUrl": "",
      "userId": "00118750132604534762"
     },
     "user_tz": -60
    },
    "id": "Id7y6YRFe9TD",
    "outputId": "a097b11b-8bf5-4a4f-b442-51801f5f2de1",
    "slideshow": {
     "slide_type": "fragment"
    }
   },
   "outputs": [
    {
     "name": "stdout",
     "output_type": "stream",
     "text": [
      "[]\n"
     ]
    }
   ],
   "source": [
    "first_list = [1, 2, 3, 4]\n",
    "first_list.clear()\n",
    "print(first_list)"
   ]
  },
  {
   "cell_type": "markdown",
   "metadata": {
    "colab_type": "text",
    "id": "a1mdecsUfBdn",
    "slideshow": {
     "slide_type": "subslide"
    }
   },
   "source": [
    "### pop\n",
    "- Remove the item at the given position in the list, and return it.\n",
    "- If no index is specified, removes & returns last item in the list."
   ]
  },
  {
   "cell_type": "code",
   "execution_count": 19,
   "metadata": {
    "colab": {
     "base_uri": "https://localhost:8080/",
     "height": 52
    },
    "colab_type": "code",
    "executionInfo": {
     "elapsed": 820,
     "status": "ok",
     "timestamp": 1583777393568,
     "user": {
      "displayName": "Catherine Nst",
      "photoUrl": "",
      "userId": "00118750132604534762"
     },
     "user_tz": -60
    },
    "id": "pFvzWU_1fGiy",
    "outputId": "d5963587-6c17-4917-d975-abe74f157fa2",
    "slideshow": {
     "slide_type": "fragment"
    }
   },
   "outputs": [
    {
     "name": "stdout",
     "output_type": "stream",
     "text": [
      "4\n",
      "2\n"
     ]
    }
   ],
   "source": [
    "first_list = [1, 2, 3, 4]\n",
    "last_item = first_list.pop() \n",
    "print(last_item)\n",
    "second_item = first_list.pop(1) \n",
    "print(second_item)"
   ]
  },
  {
   "cell_type": "markdown",
   "metadata": {
    "colab_type": "text",
    "id": "LPlxndX_fUeB",
    "slideshow": {
     "slide_type": "subslide"
    }
   },
   "source": [
    "### remove\n",
    "-  Remove the first item from the list whose value is x. \n",
    "- Throws a `ValueError` if the item is not found."
   ]
  },
  {
   "cell_type": "code",
   "execution_count": 20,
   "metadata": {
    "colab": {},
    "colab_type": "code",
    "id": "L6H2rQCEfXT0",
    "slideshow": {
     "slide_type": "fragment"
    }
   },
   "outputs": [
    {
     "name": "stdout",
     "output_type": "stream",
     "text": [
      "[1, 3, 4, 4, 4]\n",
      "[1, 3, 4, 4]\n"
     ]
    }
   ],
   "source": [
    "first_list = [1, 2, 3, 4, 4, 4]\n",
    "first_list.remove(2)\n",
    "print(first_list)\n",
    "first_list.remove(4)\n",
    "print(first_list) "
   ]
  },
  {
   "cell_type": "markdown",
   "metadata": {
    "colab_type": "text",
    "id": "E8CO9g_TfbVT",
    "slideshow": {
     "slide_type": "subslide"
    }
   },
   "source": [
    "### del\n",
    "Deletes a value from a list.\n"
   ]
  },
  {
   "cell_type": "code",
   "execution_count": 21,
   "metadata": {
    "colab": {},
    "colab_type": "code",
    "id": "MZ8i_N2ofpDr",
    "slideshow": {
     "slide_type": "fragment"
    }
   },
   "outputs": [
    {
     "name": "stdout",
     "output_type": "stream",
     "text": [
      "[1, 2, 3]\n",
      "[1, 3]\n"
     ]
    }
   ],
   "source": [
    "first_list = [1, 2, 3, 4]\n",
    "del first_list[3]\n",
    "print(first_list)\n",
    "del first_list[1]\n",
    "print(first_list)"
   ]
  },
  {
   "cell_type": "markdown",
   "metadata": {
    "colab_type": "text",
    "id": "jO4TW4boLerr",
    "slideshow": {
     "slide_type": "subslide"
    }
   },
   "source": [
    "### Quiz\n",
    "1. Question: What method here does not add one or more elements to a list?\n",
    "    \n",
    "    1. extend\n",
    "    2. add\n",
    "    3. append  \n",
    "    4. insert\n",
    "\n",
    "2. Question: Given a list `numbers = [1,2,3]` how would you access the first element in the list?\n",
    "\n",
    "3. Question: Given a list `numbers = [1,2,3]` what would the result of `numbers.pop(5)` be?\n",
    "    \n",
    "    1. `None`\n",
    "    2. `IndexError`\n",
    "    3. `3`\n",
    "\n",
    "4. Question: Which of the following is not true about lists:\n",
    "    1. You can loop over them using a for or a while loop \n",
    "    2. The index starts at 1\n",
    "    3. They are collections of elements"
   ]
  },
  {
   "cell_type": "code",
   "execution_count": null,
   "metadata": {
    "slideshow": {
     "slide_type": "fragment"
    }
   },
   "outputs": [],
   "source": []
  },
  {
   "cell_type": "markdown",
   "metadata": {
    "colab_type": "text",
    "id": "V4vrE1NbCSY-",
    "slideshow": {
     "slide_type": "subslide"
    }
   },
   "source": [
    "### index\n",
    "\n",
    "returns the index of the specified item in the list\n"
   ]
  },
  {
   "cell_type": "code",
   "execution_count": 22,
   "metadata": {
    "colab": {
     "base_uri": "https://localhost:8080/",
     "height": 52
    },
    "colab_type": "code",
    "executionInfo": {
     "elapsed": 807,
     "status": "ok",
     "timestamp": 1583786662930,
     "user": {
      "displayName": "Catherine Nst",
      "photoUrl": "",
      "userId": "00118750132604534762"
     },
     "user_tz": -60
    },
    "id": "db-4YeyXCV6H",
    "outputId": "d268908b-2528-4962-bdf0-443a1776deb3",
    "slideshow": {
     "slide_type": "fragment"
    }
   },
   "outputs": [
    {
     "name": "stdout",
     "output_type": "stream",
     "text": [
      "1\n",
      "4\n"
     ]
    }
   ],
   "source": [
    "numbers = [5, 6, 7, 8, 9, 10]\n",
    "print(numbers.index(6))\n",
    "print(numbers.index(9)) "
   ]
  },
  {
   "cell_type": "markdown",
   "metadata": {
    "colab_type": "text",
    "id": "CAPMLjrPCcqM",
    "slideshow": {
     "slide_type": "fragment"
    }
   },
   "source": [
    "Can specify start and end\n"
   ]
  },
  {
   "cell_type": "code",
   "execution_count": 23,
   "metadata": {
    "colab": {
     "base_uri": "https://localhost:8080/",
     "height": 86
    },
    "colab_type": "code",
    "executionInfo": {
     "elapsed": 801,
     "status": "ok",
     "timestamp": 1583786664973,
     "user": {
      "displayName": "Catherine Nst",
      "photoUrl": "",
      "userId": "00118750132604534762"
     },
     "user_tz": -60
    },
    "id": "3DrsH_kTCesG",
    "outputId": "1d8dd526-77fc-4baf-869f-c848f0e15a6f",
    "slideshow": {
     "slide_type": "fragment"
    }
   },
   "outputs": [
    {
     "name": "stdout",
     "output_type": "stream",
     "text": [
      "0\n",
      "1\n",
      "4\n",
      "6\n"
     ]
    }
   ],
   "source": [
    "numbers = [5, 5, 6, 7, 5, 8, 8, 9, 10]\n",
    "\n",
    "print(numbers.index(5))\n",
    "#find first 5 starting from position at index 1\n",
    "print(numbers.index(5, 1))\n",
    "#find first 5 starting from position at index 2\n",
    "print(numbers.index(5, 2))\n",
    "#find first 8 from position starting at index 6 and before index 8\n",
    "print(numbers.index(8, 6, 8))"
   ]
  },
  {
   "cell_type": "markdown",
   "metadata": {
    "colab_type": "text",
    "id": "xrj3krTRDFti",
    "slideshow": {
     "slide_type": "subslide"
    }
   },
   "source": [
    "### count \n",
    "return the number of times x appears in the list"
   ]
  },
  {
   "cell_type": "code",
   "execution_count": 24,
   "metadata": {
    "colab": {
     "base_uri": "https://localhost:8080/",
     "height": 69
    },
    "colab_type": "code",
    "executionInfo": {
     "elapsed": 797,
     "status": "ok",
     "timestamp": 1583786827304,
     "user": {
      "displayName": "Catherine Nst",
      "photoUrl": "",
      "userId": "00118750132604534762"
     },
     "user_tz": -60
    },
    "id": "p8895pLdDJ3D",
    "outputId": "b44a37d8-88db-442c-817f-179535c42fcb",
    "slideshow": {
     "slide_type": "fragment"
    }
   },
   "outputs": [
    {
     "name": "stdout",
     "output_type": "stream",
     "text": [
      "3\n",
      "0\n",
      "2\n"
     ]
    }
   ],
   "source": [
    "numbers = [1, 2, 3, 4, 3, 2, 1, 4, 10, 2]\n",
    "\n",
    "print(numbers.count(2))\n",
    "print(numbers.count(21))\n",
    "print(numbers.count(3))"
   ]
  },
  {
   "cell_type": "markdown",
   "metadata": {
    "colab_type": "text",
    "id": "XcuPzx4tDRSs",
    "slideshow": {
     "slide_type": "subslide"
    }
   },
   "source": [
    "### reverse\n",
    "reverse the elements of the list (in-place)"
   ]
  },
  {
   "cell_type": "code",
   "execution_count": 25,
   "metadata": {
    "colab": {
     "base_uri": "https://localhost:8080/",
     "height": 34
    },
    "colab_type": "code",
    "executionInfo": {
     "elapsed": 1363,
     "status": "ok",
     "timestamp": 1583786884680,
     "user": {
      "displayName": "Catherine Nst",
      "photoUrl": "",
      "userId": "00118750132604534762"
     },
     "user_tz": -60
    },
    "id": "8rYuNXIFDeJp",
    "outputId": "2abd569c-cbda-416e-c348-e6259ac28850",
    "slideshow": {
     "slide_type": "fragment"
    }
   },
   "outputs": [
    {
     "name": "stdout",
     "output_type": "stream",
     "text": [
      "[4, 3, 2, 1]\n"
     ]
    }
   ],
   "source": [
    "first_list = [1, 2, 3, 4]\n",
    "\n",
    "first_list.reverse()\n",
    "\n",
    "print(first_list) "
   ]
  },
  {
   "cell_type": "markdown",
   "metadata": {
    "colab_type": "text",
    "id": "V6tRyZjCDh-w",
    "slideshow": {
     "slide_type": "subslide"
    }
   },
   "source": [
    "### sort\n",
    "sort the items of the list (in-place)\n"
   ]
  },
  {
   "cell_type": "code",
   "execution_count": 26,
   "metadata": {
    "colab": {
     "base_uri": "https://localhost:8080/",
     "height": 34
    },
    "colab_type": "code",
    "executionInfo": {
     "elapsed": 893,
     "status": "ok",
     "timestamp": 1583786914578,
     "user": {
      "displayName": "Catherine Nst",
      "photoUrl": "",
      "userId": "00118750132604534762"
     },
     "user_tz": -60
    },
    "id": "kyF4wQTmDlh0",
    "outputId": "70879e98-d083-4f32-9254-af887d0de021",
    "slideshow": {
     "slide_type": "fragment"
    }
   },
   "outputs": [
    {
     "name": "stdout",
     "output_type": "stream",
     "text": [
      "[1, 2, 4, 5, 6]\n"
     ]
    }
   ],
   "source": [
    "another_list = [6, 4, 1, 2, 5]\n",
    "\n",
    "another_list.sort()\n",
    "\n",
    "print(another_list)"
   ]
  },
  {
   "cell_type": "markdown",
   "metadata": {
    "colab_type": "text",
    "id": "qm0e3sTsDqHI",
    "slideshow": {
     "slide_type": "subslide"
    }
   },
   "source": [
    "### join\n",
    "- technically a String method that takes an iterable argument\n",
    "- concatenates (combines) a copy of the base string between each item of the iterable\n",
    "- returns a new string\n",
    "- can be used to make sentences out of a list of words by joining on a space, for instance:\n",
    "\n"
   ]
  },
  {
   "cell_type": "code",
   "execution_count": 27,
   "metadata": {
    "colab": {
     "base_uri": "https://localhost:8080/",
     "height": 34
    },
    "colab_type": "code",
    "executionInfo": {
     "elapsed": 1397,
     "status": "ok",
     "timestamp": 1583786970404,
     "user": {
      "displayName": "Catherine Nst",
      "photoUrl": "",
      "userId": "00118750132604534762"
     },
     "user_tz": -60
    },
    "id": "9ZrKHtE_DxoZ",
    "outputId": "e1c58ab1-bd06-4938-c17a-f507777d3e28",
    "slideshow": {
     "slide_type": "fragment"
    }
   },
   "outputs": [
    {
     "data": {
      "text/plain": [
       "'Coding Is Fun!'"
      ]
     },
     "execution_count": 27,
     "metadata": {},
     "output_type": "execute_result"
    }
   ],
   "source": [
    "words = ['Coding', 'Is', 'Fun!']\n",
    "\n",
    "' '.join(words) "
   ]
  },
  {
   "cell_type": "markdown",
   "metadata": {
    "colab_type": "text",
    "id": "f2acZ2kUD3sd",
    "slideshow": {
     "slide_type": "fragment"
    }
   },
   "source": [
    "another example"
   ]
  },
  {
   "cell_type": "code",
   "execution_count": 28,
   "metadata": {
    "colab": {
     "base_uri": "https://localhost:8080/",
     "height": 34
    },
    "colab_type": "code",
    "executionInfo": {
     "elapsed": 1385,
     "status": "ok",
     "timestamp": 1583787025580,
     "user": {
      "displayName": "Catherine Nst",
      "photoUrl": "",
      "userId": "00118750132604534762"
     },
     "user_tz": -60
    },
    "id": "TQlii--yD5Ch",
    "outputId": "7b998d74-abcb-48bc-db3a-20757c6dc500",
    "slideshow": {
     "slide_type": "fragment"
    }
   },
   "outputs": [
    {
     "data": {
      "text/plain": [
       "'Dr. Eyre'"
      ]
     },
     "execution_count": 28,
     "metadata": {},
     "output_type": "execute_result"
    }
   ],
   "source": [
    "name = ['Dr', \"Eyre\"]\n",
    "\n",
    "'. '.join(name) "
   ]
  },
  {
   "cell_type": "markdown",
   "metadata": {
    "colab_type": "text",
    "id": "zyZO6bhUMl6g",
    "slideshow": {
     "slide_type": "subslide"
    }
   },
   "source": [
    "### Exercise 3 - Lists Methods"
   ]
  },
  {
   "cell_type": "markdown",
   "metadata": {
    "colab_type": "text",
    "id": "zyZO6bhUMl6g",
    "slideshow": {
     "slide_type": "fragment"
    }
   },
   "source": [
    "Find the instructions as comments. Work in groups for 10mins"
   ]
  },
  {
   "cell_type": "code",
   "execution_count": 29,
   "metadata": {
    "colab": {},
    "colab_type": "code",
    "id": "XdIuKxDWMpKP",
    "slideshow": {
     "slide_type": "fragment"
    }
   },
   "outputs": [],
   "source": [
    "# Create a list called instructors\n",
    "\n",
    "# Add the following strings to the instructors list \n",
    "    # \"Marc\"\n",
    "    # \"Rita\"\n",
    "    # \"Henry\"\n",
    "\n",
    "# Remove the last value in the list\n",
    "\n",
    "# Remove the first value in the list\n",
    " \n",
    "# Add the string \"Done\" to the beginning of the list\n",
    "\n",
    "# Print to make sure you did this right"
   ]
  },
  {
   "cell_type": "markdown",
   "metadata": {
    "colab_type": "text",
    "id": "Ei7TB1gYEF79",
    "slideshow": {
     "slide_type": "slide"
    }
   },
   "source": [
    "### Slicing\n",
    "\n",
    "Make new lists using slices of the old list!\n",
    "\n",
    "```python\n",
    "    some_list[start:end:step]\n",
    "```"
   ]
  },
  {
   "cell_type": "markdown",
   "metadata": {
    "colab_type": "text",
    "id": "Ei7TB1gYEF79",
    "slideshow": {
     "slide_type": "subslide"
    }
   },
   "source": [
    "#### First Parameter for Slice: start\n",
    "\n",
    "what index to start slicing from\n",
    "\n",
    "```python\n",
    "first_list = [1, 2, 3, 4]\n",
    "\n",
    "first_list[1:] # [2, 3, 4]\n",
    "\n",
    "first_list[3:] # [4]\n",
    "```\n",
    "If you enter a negative number, it will start the slice that many back from the end\n",
    "```python\n",
    "first_list[-1:] # [4]\n",
    "\n",
    "first_list[-3:] # [2, 3, 4]\n",
    "```"
   ]
  },
  {
   "cell_type": "code",
   "execution_count": null,
   "metadata": {
    "slideshow": {
     "slide_type": "fragment"
    }
   },
   "outputs": [],
   "source": []
  },
  {
   "cell_type": "markdown",
   "metadata": {
    "colab_type": "text",
    "id": "Ei7TB1gYEF79",
    "slideshow": {
     "slide_type": "subslide"
    }
   },
   "source": [
    "#### Second Parameter for Slice: end\n",
    "The index to copy up to (exclusive counting).\n",
    "```python\n",
    "first_list = [1, 2, 3, 4]\n",
    "\n",
    "first_list[:2] # [1, 2]\n",
    "\n",
    "first_list[:4] # [1, 2, 3, 4]\n",
    "\n",
    "first_list[1:3] # [2, 3]\n",
    "```\n",
    "\n",
    "With negative numbers, how many items to exclude from the end (i.e. indexing by counting backwards)\n",
    "\n",
    "```python\n",
    "first_list[:-1] # [1, 2, 3]\n",
    "\n",
    "first_list[1:-1] # [2, 3]\n",
    "```"
   ]
  },
  {
   "cell_type": "code",
   "execution_count": null,
   "metadata": {
    "slideshow": {
     "slide_type": "fragment"
    }
   },
   "outputs": [],
   "source": []
  },
  {
   "cell_type": "markdown",
   "metadata": {
    "colab_type": "text",
    "id": "Ei7TB1gYEF79",
    "slideshow": {
     "slide_type": "subslide"
    }
   },
   "source": [
    "#### Third Parameter for Slice: step\n",
    "- \"step\" in Python is basically the number to count at a time \n",
    "- same as step with range!\n",
    "- for example, a step of 2 counts every other number (1, 3, 5)\n",
    "\n",
    "```python\n",
    "first_list = [1, 2, 3, 4, 5, 6]\n",
    "\n",
    "first_list[1::2] # [2, 4, 6]\n",
    "\n",
    "first_list[::2] # [1, 3, 5]\n",
    "```\n",
    "\n",
    "with negative numbers, reverse the order \n",
    "\n",
    "```python\n",
    "first_list[1::-1] # [2, 1]\n",
    "\n",
    "first_list[:1:-1] # [6, 5, 4, 3]\n",
    "\n",
    "first_list[2::-1] # [3, 2, 1]\n",
    "```"
   ]
  },
  {
   "cell_type": "code",
   "execution_count": null,
   "metadata": {
    "slideshow": {
     "slide_type": "fragment"
    }
   },
   "outputs": [],
   "source": []
  },
  {
   "cell_type": "markdown",
   "metadata": {
    "colab_type": "text",
    "id": "Ei7TB1gYEF79",
    "slideshow": {
     "slide_type": "subslide"
    }
   },
   "source": [
    "#### Tricks with Slices\n",
    "\n",
    "Reversing lists / strings"
   ]
  },
  {
   "cell_type": "code",
   "execution_count": 30,
   "metadata": {
    "colab": {
     "base_uri": "https://localhost:8080/",
     "height": 34
    },
    "colab_type": "code",
    "executionInfo": {
     "elapsed": 968,
     "status": "ok",
     "timestamp": 1583787372263,
     "user": {
      "displayName": "Catherine Nst",
      "photoUrl": "",
      "userId": "00118750132604534762"
     },
     "user_tz": -60
    },
    "id": "JR3BCFMOFVqN",
    "outputId": "934f229a-93da-4c0e-f73d-8d131578f8f1",
    "slideshow": {
     "slide_type": "fragment"
    }
   },
   "outputs": [
    {
     "data": {
      "text/plain": [
       "'!nuf si sihT'"
      ]
     },
     "execution_count": 30,
     "metadata": {},
     "output_type": "execute_result"
    }
   ],
   "source": [
    "string = \"This is fun!\"\n",
    "\n",
    "string[::-1]"
   ]
  },
  {
   "cell_type": "markdown",
   "metadata": {
    "colab_type": "text",
    "id": "qysJYd2jFYRP",
    "slideshow": {
     "slide_type": "fragment"
    }
   },
   "source": [
    "Modifying portions of lists\n"
   ]
  },
  {
   "cell_type": "code",
   "execution_count": 31,
   "metadata": {
    "colab": {
     "base_uri": "https://localhost:8080/",
     "height": 34
    },
    "colab_type": "code",
    "executionInfo": {
     "elapsed": 950,
     "status": "ok",
     "timestamp": 1583787409899,
     "user": {
      "displayName": "Catherine Nst",
      "photoUrl": "",
      "userId": "00118750132604534762"
     },
     "user_tz": -60
    },
    "id": "nBKvZ09-FZfd",
    "outputId": "4760b69a-7e76-4163-9ef1-78e7b51e4291",
    "slideshow": {
     "slide_type": "fragment"
    }
   },
   "outputs": [
    {
     "name": "stdout",
     "output_type": "stream",
     "text": [
      "[1, 'a', 'b', 'c', 4, 5]\n"
     ]
    }
   ],
   "source": [
    "numbers = [1, 2, 3, 4, 5]\n",
    "\n",
    "numbers[1:3] = ['a','b','c']\n",
    "\n",
    "print(numbers) "
   ]
  },
  {
   "cell_type": "markdown",
   "metadata": {
    "colab_type": "text",
    "id": "yy3KKuIYM6Ku",
    "slideshow": {
     "slide_type": "slide"
    }
   },
   "source": [
    "## Quiz\n",
    "- **Question 1**: Given a list `numbers = [1,2,3,4]`  - what does `numbers[::-1]`  return?\n",
    "\n",
    "    (a) `[1,2,3,4]`\n",
    "\n",
    "    (b) `[1,4]`\n",
    "\n",
    "    (c) `[4,3,2,1]`\n",
    "\n",
    "    (d) `[4]`"
   ]
  },
  {
   "cell_type": "code",
   "execution_count": null,
   "metadata": {
    "slideshow": {
     "slide_type": "fragment"
    }
   },
   "outputs": [],
   "source": []
  },
  {
   "cell_type": "markdown",
   "metadata": {
    "colab_type": "text",
    "id": "yy3KKuIYM6Ku",
    "slideshow": {
     "slide_type": "subslide"
    }
   },
   "source": [
    "- **Question 2**: Given a list `numbers = [1,2,3,4]`  - what does `numbers[1:3]`  return?\n",
    "\n",
    "    (a) `[1,2,3]`\n",
    "\n",
    "    (b) `[2,3]`\n",
    "\n",
    "    (c) `[2,3,4]`\n",
    "\n",
    "    (d) `[1,2]`\n",
    "\n",
    "    (e) `[3]`"
   ]
  },
  {
   "cell_type": "code",
   "execution_count": null,
   "metadata": {
    "slideshow": {
     "slide_type": "fragment"
    }
   },
   "outputs": [],
   "source": []
  },
  {
   "cell_type": "markdown",
   "metadata": {
    "colab_type": "text",
    "id": "yy3KKuIYM6Ku",
    "slideshow": {
     "slide_type": "subslide"
    }
   },
   "source": [
    "- **Question 3**: Given a list `numbers = [1,2,3,4]`  - what does `numbers[-2]`  return?\n",
    "\n",
    "    (a) `[3]`\n",
    "\n",
    "    (b) `3`\n",
    "\n",
    "    (c) `[1,2,3]`\n",
    "\n",
    "    (d) `[2]`\n",
    "\n",
    "    (e) `2`"
   ]
  },
  {
   "cell_type": "code",
   "execution_count": null,
   "metadata": {
    "slideshow": {
     "slide_type": "fragment"
    }
   },
   "outputs": [],
   "source": []
  },
  {
   "cell_type": "markdown",
   "metadata": {
    "colab_type": "text",
    "id": "JcnNErfjFoCt",
    "slideshow": {
     "slide_type": "slide"
    }
   },
   "source": [
    "## List comprehension and nested lists\n",
    "\n",
    "> ***MAYBE ADVANCED STUDENTS ONLY SHOULD LOOK AT COMPREHENSIONS AND NESTED LISTS***"
   ]
  },
  {
   "cell_type": "markdown",
   "metadata": {
    "colab_type": "text",
    "id": "JcnNErfjFoCt",
    "slideshow": {
     "slide_type": "fragment"
    }
   },
   "source": [
    "### the syntax\n",
    "\n",
    "```python\n",
    "[ __ for __ in __ ]\n",
    "```"
   ]
  },
  {
   "cell_type": "markdown",
   "metadata": {
    "colab_type": "text",
    "id": "JcnNErfjFoCt",
    "slideshow": {
     "slide_type": "subslide"
    }
   },
   "source": [
    "### List Comprehension vs Looping"
   ]
  },
  {
   "cell_type": "code",
   "execution_count": 32,
   "metadata": {
    "colab": {
     "base_uri": "https://localhost:8080/",
     "height": 34
    },
    "colab_type": "code",
    "executionInfo": {
     "elapsed": 838,
     "status": "ok",
     "timestamp": 1583787589175,
     "user": {
      "displayName": "Catherine Nst",
      "photoUrl": "",
      "userId": "00118750132604534762"
     },
     "user_tz": -60
    },
    "id": "YIjz-1TOGHSL",
    "outputId": "c5422e0b-c2da-4527-e886-85b9ee6e50d1",
    "slideshow": {
     "slide_type": "fragment"
    }
   },
   "outputs": [
    {
     "name": "stdout",
     "output_type": "stream",
     "text": [
      "[2, 4, 6, 8, 10]\n"
     ]
    }
   ],
   "source": [
    "numbers = [1, 2, 3, 4, 5]\n",
    "doubled_numbers = []\n",
    "\n",
    "for num in numbers:\n",
    "    doubled_number = num * 2\n",
    "    doubled_numbers.append(doubled_number)\n",
    "\n",
    "print(doubled_numbers) "
   ]
  },
  {
   "cell_type": "code",
   "execution_count": 33,
   "metadata": {
    "colab": {
     "base_uri": "https://localhost:8080/",
     "height": 34
    },
    "colab_type": "code",
    "executionInfo": {
     "elapsed": 879,
     "status": "ok",
     "timestamp": 1583787593665,
     "user": {
      "displayName": "Catherine Nst",
      "photoUrl": "",
      "userId": "00118750132604534762"
     },
     "user_tz": -60
    },
    "id": "i2M7pc-aGKKI",
    "outputId": "e698e457-590a-43a6-85af-980558a7a3ec",
    "slideshow": {
     "slide_type": "fragment"
    }
   },
   "outputs": [
    {
     "name": "stdout",
     "output_type": "stream",
     "text": [
      "[2, 4, 6, 8, 10]\n"
     ]
    }
   ],
   "source": [
    "numbers = [1, 2, 3, 4, 5]\n",
    "\n",
    "doubled_numbers = [num * 2 for num in numbers]\n",
    "\n",
    "print(doubled_numbers) "
   ]
  },
  {
   "cell_type": "markdown",
   "metadata": {
    "colab_type": "text",
    "id": "7fT43p90GSU4",
    "slideshow": {
     "slide_type": "subslide"
    }
   },
   "source": [
    "### Examples"
   ]
  },
  {
   "cell_type": "code",
   "execution_count": 34,
   "metadata": {
    "colab": {
     "base_uri": "https://localhost:8080/",
     "height": 34
    },
    "colab_type": "code",
    "executionInfo": {
     "elapsed": 1192,
     "status": "ok",
     "timestamp": 1583787658904,
     "user": {
      "displayName": "Catherine Nst",
      "photoUrl": "",
      "userId": "00118750132604534762"
     },
     "user_tz": -60
    },
    "id": "0FRKmt6LGUyI",
    "outputId": "f8b2ff65-33c9-464c-9adc-c10ce59b10e4",
    "slideshow": {
     "slide_type": "fragment"
    }
   },
   "outputs": [
    {
     "data": {
      "text/plain": [
       "['R', 'Y', 'A', 'N']"
      ]
     },
     "execution_count": 34,
     "metadata": {},
     "output_type": "execute_result"
    }
   ],
   "source": [
    "name = 'ryan'\n",
    "\n",
    "[char.upper() for char in name] "
   ]
  },
  {
   "cell_type": "code",
   "execution_count": 35,
   "metadata": {
    "colab": {
     "base_uri": "https://localhost:8080/",
     "height": 34
    },
    "colab_type": "code",
    "executionInfo": {
     "elapsed": 759,
     "status": "ok",
     "timestamp": 1583787725860,
     "user": {
      "displayName": "Catherine Nst",
      "photoUrl": "",
      "userId": "00118750132604534762"
     },
     "user_tz": -60
    },
    "id": "7MKNQr7IGahu",
    "outputId": "81b058c9-1e1a-490a-c5a6-76bb5c74069b",
    "slideshow": {
     "slide_type": "fragment"
    }
   },
   "outputs": [
    {
     "name": "stdout",
     "output_type": "stream",
     "text": [
      "['Ashley', 'Matt', 'Michael']\n"
     ]
    }
   ],
   "source": [
    "friends = ['ashley', 'matt', 'michael']\n",
    "\n",
    "uppercase_friends = [friend[0].upper()+friend[1:] for friend in friends] \n",
    "print (uppercase_friends)"
   ]
  },
  {
   "cell_type": "code",
   "execution_count": 36,
   "metadata": {
    "colab": {
     "base_uri": "https://localhost:8080/",
     "height": 34
    },
    "colab_type": "code",
    "executionInfo": {
     "elapsed": 825,
     "status": "ok",
     "timestamp": 1583787745084,
     "user": {
      "displayName": "Catherine Nst",
      "photoUrl": "",
      "userId": "00118750132604534762"
     },
     "user_tz": -60
    },
    "id": "bQzkH65iGwKQ",
    "outputId": "e6f6a3e1-d103-4fea-85ec-d05e5b576c63",
    "slideshow": {
     "slide_type": "fragment"
    }
   },
   "outputs": [
    {
     "data": {
      "text/plain": [
       "[10, 20, 30, 40, 50]"
      ]
     },
     "execution_count": 36,
     "metadata": {},
     "output_type": "execute_result"
    }
   ],
   "source": [
    "[num*10 for num in range(1,6)] "
   ]
  },
  {
   "cell_type": "code",
   "execution_count": 37,
   "metadata": {
    "colab": {
     "base_uri": "https://localhost:8080/",
     "height": 34
    },
    "colab_type": "code",
    "executionInfo": {
     "elapsed": 798,
     "status": "ok",
     "timestamp": 1583787755740,
     "user": {
      "displayName": "Catherine Nst",
      "photoUrl": "",
      "userId": "00118750132604534762"
     },
     "user_tz": -60
    },
    "id": "itYuiCPrGyc3",
    "outputId": "7f12bf6c-6bad-47ea-f9fe-ed8e125530a5",
    "slideshow": {
     "slide_type": "fragment"
    }
   },
   "outputs": [
    {
     "data": {
      "text/plain": [
       "[False, False, False]"
      ]
     },
     "execution_count": 37,
     "metadata": {},
     "output_type": "execute_result"
    }
   ],
   "source": [
    "[bool(val) for val in [0, [], '']] "
   ]
  },
  {
   "cell_type": "code",
   "execution_count": 38,
   "metadata": {
    "colab": {
     "base_uri": "https://localhost:8080/",
     "height": 34
    },
    "colab_type": "code",
    "executionInfo": {
     "elapsed": 852,
     "status": "ok",
     "timestamp": 1583787767783,
     "user": {
      "displayName": "Catherine Nst",
      "photoUrl": "",
      "userId": "00118750132604534762"
     },
     "user_tz": -60
    },
    "id": "jmIF0wMZG1qF",
    "outputId": "6fb40dbc-c5fa-4a89-c123-0316b8ea45e6",
    "slideshow": {
     "slide_type": "fragment"
    }
   },
   "outputs": [
    {
     "name": "stdout",
     "output_type": "stream",
     "text": [
      "['1', '2', '3', '4', '5']\n"
     ]
    }
   ],
   "source": [
    "numbers = [1, 2, 3, 4, 5]\n",
    "\n",
    "string_list = [str(num) for num in numbers]\n",
    "\n",
    "print(string_list) "
   ]
  },
  {
   "cell_type": "markdown",
   "metadata": {
    "colab_type": "text",
    "id": "PQ7xw1mkG52Z",
    "slideshow": {
     "slide_type": "subslide"
    }
   },
   "source": [
    "### List comprehension with conditional logic"
   ]
  },
  {
   "cell_type": "code",
   "execution_count": 39,
   "metadata": {
    "colab": {
     "base_uri": "https://localhost:8080/",
     "height": 52
    },
    "colab_type": "code",
    "executionInfo": {
     "elapsed": 817,
     "status": "ok",
     "timestamp": 1583787820517,
     "user": {
      "displayName": "Catherine Nst",
      "photoUrl": "",
      "userId": "00118750132604534762"
     },
     "user_tz": -60
    },
    "id": "eafBGWSJG91g",
    "outputId": "8ed65378-f2e0-43a6-c991-01969dd44806",
    "slideshow": {
     "slide_type": "fragment"
    }
   },
   "outputs": [
    {
     "name": "stdout",
     "output_type": "stream",
     "text": [
      "[2, 4, 6]\n",
      "[1, 3, 5]\n"
     ]
    }
   ],
   "source": [
    "numbers = [1, 2, 3, 4, 5, 6]\n",
    "\n",
    "evens = [num for num in numbers if num % 2 == 0]\n",
    "print(evens)\n",
    "odds = [num for num in numbers if num % 2 != 0]\n",
    "print(odds)"
   ]
  },
  {
   "cell_type": "code",
   "execution_count": 40,
   "metadata": {
    "colab": {
     "base_uri": "https://localhost:8080/",
     "height": 34
    },
    "colab_type": "code",
    "executionInfo": {
     "elapsed": 826,
     "status": "ok",
     "timestamp": 1583787829329,
     "user": {
      "displayName": "Catherine Nst",
      "photoUrl": "",
      "userId": "00118750132604534762"
     },
     "user_tz": -60
    },
    "id": "oq2RBOjtHE3z",
    "outputId": "19d2e25b-d706-4742-c1d3-392ef6fdfeaa",
    "slideshow": {
     "slide_type": "fragment"
    }
   },
   "outputs": [
    {
     "data": {
      "text/plain": [
       "[0.5, 4, 1.5, 8, 2.5, 12]"
      ]
     },
     "execution_count": 40,
     "metadata": {},
     "output_type": "execute_result"
    }
   ],
   "source": [
    "print([num*2 if num % 2 == 0 else num/2 for num in numbers] )\n",
    "\n",
    "# long form\n",
    "l = []\n",
    "for num in numbers:\n",
    "    if num % 2 == 0:\n",
    "        l.append(num * 2)\n",
    "    else:\n",
    "        l.append(num/2)\n",
    "l"
   ]
  },
  {
   "cell_type": "code",
   "execution_count": 41,
   "metadata": {
    "colab": {
     "base_uri": "https://localhost:8080/",
     "height": 34
    },
    "colab_type": "code",
    "executionInfo": {
     "elapsed": 835,
     "status": "ok",
     "timestamp": 1583787847200,
     "user": {
      "displayName": "Catherine Nst",
      "photoUrl": "",
      "userId": "00118750132604534762"
     },
     "user_tz": -60
    },
    "id": "kviZbi_1HIyP",
    "outputId": "2cd545b2-7035-4cf4-fc33-c6159040d36b",
    "slideshow": {
     "slide_type": "fragment"
    }
   },
   "outputs": [
    {
     "data": {
      "text/plain": [
       "'Ths s s mch fn!'"
      ]
     },
     "execution_count": 41,
     "metadata": {},
     "output_type": "execute_result"
    }
   ],
   "source": [
    "with_vowels = \"This is so much fun!\"\n",
    "\n",
    "''.join(char for char in with_vowels if char not in \"aeiou\")\n"
   ]
  },
  {
   "cell_type": "markdown",
   "metadata": {
    "colab_type": "text",
    "id": "Xex_mwoUHNmn",
    "slideshow": {
     "slide_type": "slide"
    }
   },
   "source": [
    "## Nested Lists\n",
    "\n",
    "\n",
    "Lists can contain any kind of element, even other lists!\n"
   ]
  },
  {
   "cell_type": "code",
   "execution_count": 42,
   "metadata": {
    "colab": {},
    "colab_type": "code",
    "id": "1eAixBO2HVTy",
    "slideshow": {
     "slide_type": "fragment"
    }
   },
   "outputs": [],
   "source": [
    "nested_list = [[1, 2, 3], [4, 5, 6], [7, 8, 9]]"
   ]
  },
  {
   "cell_type": "markdown",
   "metadata": {
    "colab_type": "text",
    "id": "4c0Xv7GhHZ8T",
    "slideshow": {
     "slide_type": "subslide"
    }
   },
   "source": [
    "### Why?\n",
    "\n",
    "- Complex data structures - matrices\n",
    "\n",
    "- Game Boards / Mazes\n",
    "\n",
    "- Rows and Columns for visualizations, tabulation and grouping data"
   ]
  },
  {
   "cell_type": "markdown",
   "metadata": {
    "colab_type": "text",
    "id": "4c0Xv7GhHZ8T",
    "slideshow": {
     "slide_type": "subslide"
    }
   },
   "source": [
    "### Accessing Nested Lists\n",
    "```python\n",
    "nested_list = [[1, 2, 3], [4, 5, 6], [7, 8, 9]]\n",
    "\n",
    "nested_list[0][1] # 2\n",
    "\n",
    "nested_list[1][-1] # 6\n",
    "```"
   ]
  },
  {
   "cell_type": "markdown",
   "metadata": {
    "colab_type": "text",
    "id": "4c0Xv7GhHZ8T",
    "slideshow": {
     "slide_type": "subslide"
    }
   },
   "source": [
    "### Printing Values in Nested Lists\n",
    "```python\n",
    "nested_list = [[1, 2, 3], [4, 5, 6], [7, 8, 9]]\n",
    "\n",
    "for l in nested_list:\n",
    "    for val in l:\n",
    "        print(val)\n",
    "\n",
    "\n",
    "# 1\n",
    "# 2\n",
    "# 3\n",
    "# 4\n",
    "# 5\n",
    "# 6\n",
    "# 7\n",
    "# 8\n",
    "# 9\n",
    "```"
   ]
  },
  {
   "cell_type": "markdown",
   "metadata": {
    "colab_type": "text",
    "id": "4c0Xv7GhHZ8T",
    "slideshow": {
     "slide_type": "subslide"
    }
   },
   "source": [
    "### Nested List Comprehension\n",
    "```python\n",
    "nested_list = [[1, 2, 3], [4, 5, 6], [7, 8, 9]]\n",
    "\n",
    "[[print(val) for val in l] for l in nested_list]\n",
    "\n",
    "# 1\n",
    "# 2\n",
    "# 3\n",
    "# 4\n",
    "# 5\n",
    "# 6\n",
    "# 7\n",
    "# 8\n",
    "# 9\n",
    "```\n",
    "\n",
    "> this returns a list of `None`s. If you just want to print the values, normal looping would probably we better."
   ]
  },
  {
   "cell_type": "code",
   "execution_count": 43,
   "metadata": {
    "slideshow": {
     "slide_type": "fragment"
    }
   },
   "outputs": [
    {
     "data": {
      "text/plain": [
       "[1, 2, 3, 4, 5, 6, 7, 8, 9]"
      ]
     },
     "execution_count": 43,
     "metadata": {},
     "output_type": "execute_result"
    }
   ],
   "source": [
    "nested_list = [[1, 2, 3], [4, 5, 6], [7, 8, 9]]\n",
    "\n",
    "# for l in nested_list:\n",
    "#     for val in l:\n",
    "#         val\n",
    "\n",
    "[val for l in nested_list for val in l] # flattend list"
   ]
  },
  {
   "cell_type": "markdown",
   "metadata": {
    "colab_type": "text",
    "id": "4c0Xv7GhHZ8T",
    "slideshow": {
     "slide_type": "subslide"
    }
   },
   "source": [
    "### Other example"
   ]
  },
  {
   "cell_type": "code",
   "execution_count": 44,
   "metadata": {
    "colab": {
     "base_uri": "https://localhost:8080/",
     "height": 52
    },
    "colab_type": "code",
    "executionInfo": {
     "elapsed": 848,
     "status": "ok",
     "timestamp": 1583788065177,
     "user": {
      "displayName": "Catherine Nst",
      "photoUrl": "",
      "userId": "00118750132604534762"
     },
     "user_tz": -60
    },
    "id": "B6FsQ20THpc1",
    "outputId": "80da1f6c-1e5a-4c4d-9db1-711abd5b3e4a",
    "slideshow": {
     "slide_type": "fragment"
    }
   },
   "outputs": [
    {
     "name": "stdout",
     "output_type": "stream",
     "text": [
      "[[1, 2, 3], [1, 2, 3], [1, 2, 3]]\n"
     ]
    },
    {
     "data": {
      "text/plain": [
       "[['X', 'O', 'X'], ['X', 'O', 'X'], ['X', 'O', 'X']]"
      ]
     },
     "execution_count": 44,
     "metadata": {},
     "output_type": "execute_result"
    }
   ],
   "source": [
    "board = [[num for num in range(1,4)] for val in range(1,4)]\n",
    "\n",
    "print(board) \n",
    "\n",
    "[[\"X\" if num % 2 != 0 else \"O\" for num in range(1,4)] for val in range(1,4)]\n"
   ]
  },
  {
   "cell_type": "markdown",
   "metadata": {
    "colab_type": "text",
    "id": "F8rBO6Q4IHRI",
    "slideshow": {
     "slide_type": "slide"
    }
   },
   "source": [
    "## Swapping Values"
   ]
  },
  {
   "cell_type": "code",
   "execution_count": 45,
   "metadata": {
    "colab": {},
    "colab_type": "code",
    "id": "cgIVsEuzIKEA",
    "slideshow": {
     "slide_type": "fragment"
    }
   },
   "outputs": [
    {
     "name": "stdout",
     "output_type": "stream",
     "text": [
      "['Michelle', 'James']\n"
     ]
    }
   ],
   "source": [
    "names = [\"James\", \"Michelle\"]\n",
    "\n",
    "names[0], names[1] = names[1], names[0]\n",
    "\n",
    "print(names)"
   ]
  },
  {
   "cell_type": "markdown",
   "metadata": {
    "colab_type": "text",
    "id": "FdjqGXhLIPad",
    "slideshow": {
     "slide_type": "fragment"
    }
   },
   "source": [
    "\n",
    "\n",
    "### When Do You Need to Swap?\n",
    "\n",
    "- shuffling\n",
    "\n",
    "- sorting\n",
    "\n",
    "- algorithms\n"
   ]
  },
  {
   "cell_type": "markdown",
   "metadata": {
    "colab_type": "text",
    "id": "mI5d82xfIUvJ",
    "slideshow": {
     "slide_type": "slide"
    }
   },
   "source": [
    "## Recap\n",
    "- lists are fundamental data structures for ordered information\n",
    "\n",
    "- lists can include any type, even other lists!\n",
    "\n",
    "- we can modify lists using a [variety of methods](https://docs.python.org/3/tutorial/datastructures.html#more-on-lists)\n",
    "\n",
    "- slices are quite useful when making copies of lists\n",
    "\n",
    "- list comprehension is used everywhere when iterating over lists, strings, ranges and even more data types!\n",
    "\n",
    "- nested lists are essential for building more complex data structures like matrices, game boards and mazes\n",
    "\n",
    "- swapping is quite useful when shuffling or sorting\n",
    "\n"
   ]
  },
  {
   "cell_type": "markdown",
   "metadata": {
    "colab_type": "text",
    "id": "ZXk_yTnGOSV1",
    "slideshow": {
     "slide_type": "fragment"
    }
   },
   "source": [
    "*Note: This notebook's contents have been adapted from Colt Steele's slides used in \"[Modern Python 3 Bootcamp Course](https://www.udemy.com/course/the-modern-python3-bootcamp/)\" on Udemy*"
   ]
  }
 ],
 "metadata": {
  "celltoolbar": "Slideshow",
  "colab": {
   "authorship_tag": "ABX9TyN359fRVS5Nj2AG1ygOcD31",
   "collapsed_sections": [],
   "name": "lists.ipynb",
   "provenance": []
  },
  "kernelspec": {
   "name": "python370jvsc74a57bd04cd7ab41f5fca4b9b44701077e38c5ffd31fe66a6cab21e0214b68d958d0e462",
   "display_name": "Python 3.7.0 64-bit"
  },
  "language_info": {
   "codemirror_mode": {
    "name": "ipython",
    "version": 3
   },
   "file_extension": ".py",
   "mimetype": "text/x-python",
   "name": "python",
   "nbconvert_exporter": "python",
   "pygments_lexer": "ipython3",
   "version": "3.7.0"
  },
  "rise": {
   "scroll": true
  },
  "toc": {
   "base_numbering": 1,
   "nav_menu": {},
   "number_sections": true,
   "sideBar": true,
   "skip_h1_title": false,
   "title_cell": "Table of Contents",
   "title_sidebar": "Contents",
   "toc_cell": false,
   "toc_position": {
    "height": "calc(100% - 180px)",
    "left": "10px",
    "top": "150px",
    "width": "512px"
   },
   "toc_section_display": true,
   "toc_window_display": true
  },
  "toc-autonumbering": true
 },
 "nbformat": 4,
 "nbformat_minor": 4
}